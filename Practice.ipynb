{
 "cells": [
  {
   "cell_type": "markdown",
   "id": "8386e4bd-3bb8-4d7e-8126-9b595f4e7032",
   "metadata": {},
   "source": [
    "# OESON - Internship\n",
    "## Student: Julian Andres Salazar\n",
    "## Session: Data Structure in Python - Practice\n",
    "## Date: June 5, 2024"
   ]
  },
  {
   "cell_type": "markdown",
   "id": "672de1ae-623c-48c0-995e-b11812f36eb5",
   "metadata": {},
   "source": [
    "### Question 1 - Appending and Removing Elements\n",
    "Create an empty list called my_list. Append the numbers 1, 2, and 3 to my_list. Then remove the number 2 from the list."
   ]
  },
  {
   "cell_type": "code",
   "execution_count": 1,
   "id": "abaa2b94-d512-47c7-8da0-7736fea72931",
   "metadata": {},
   "outputs": [
    {
     "name": "stdout",
     "output_type": "stream",
     "text": [
      "[1, 3]\n"
     ]
    }
   ],
   "source": [
    "#Option 1: Using append\n",
    "\n",
    "my_list=[]\n",
    "\n",
    "my_list.append(1)\n",
    "my_list.append(2)\n",
    "my_list.append(3)\n",
    "\n",
    "my_list.remove(2)\n",
    "\n",
    "print(my_list)"
   ]
  },
  {
   "cell_type": "code",
   "execution_count": 2,
   "id": "e39de3c7-dc53-43c7-a2c7-2cdfc53f11c3",
   "metadata": {},
   "outputs": [
    {
     "name": "stdout",
     "output_type": "stream",
     "text": [
      "[1, 3]\n"
     ]
    }
   ],
   "source": [
    "#Option 2: Using extend\n",
    "\n",
    "my_list=[]\n",
    "my_list.extend([1,2,3])\n",
    "my_list.remove(2)\n",
    "\n",
    "print(my_list)"
   ]
  },
  {
   "cell_type": "code",
   "execution_count": 3,
   "id": "386072b1-c7be-487e-912e-c7fecdb3b510",
   "metadata": {},
   "outputs": [
    {
     "name": "stdout",
     "output_type": "stream",
     "text": [
      "[1, 3]\n"
     ]
    }
   ],
   "source": [
    "#Option 3: Using list comprehension\n",
    "#If we have a very large list, then it might be \n",
    "# more efficient to use a loop\n",
    "#range(start, stop) generates numbers from start up to but not including stop.\n",
    "my_list = [i for i in range(1, 4)]\n",
    "my_list.remove(2)\n",
    "print(my_list)"
   ]
  },
  {
   "cell_type": "code",
   "execution_count": 4,
   "id": "83ad1b3a-1cc1-4181-8024-4cacd0b977b3",
   "metadata": {},
   "outputs": [
    {
     "name": "stdout",
     "output_type": "stream",
     "text": [
      "[1, 3]\n"
     ]
    }
   ],
   "source": [
    "#Option 4: Using the + operator\n",
    "\n",
    "my_list = []\n",
    "my_list += [1, 2, 3]\n",
    "my_list.remove(2)\n",
    "\n",
    "print(my_list)"
   ]
  },
  {
   "cell_type": "markdown",
   "id": "f588ec52-49c9-4794-a1b3-11151caac949",
   "metadata": {},
   "source": [
    "### Question 2 - Accessing Elements:\n",
    "\n",
    "Create a list called fruits containing the strings \"apple\",\"banana\", \"cherry\", \"date\". Print the second element of the list"
   ]
  },
  {
   "cell_type": "code",
   "execution_count": 5,
   "id": "ccfc4bab-f21b-4a30-ac59-f9e8a26f7edb",
   "metadata": {},
   "outputs": [
    {
     "name": "stdout",
     "output_type": "stream",
     "text": [
      "Banana\n"
     ]
    }
   ],
   "source": [
    "fruits=[\"Apple\", #Position 0\n",
    "           \"Banana\", #Position 1\n",
    "           \"Cherry\", #Position 2\n",
    "           \"Date\"]   #Position 3\n",
    "\n",
    "print(fruits[1]) "
   ]
  },
  {
   "cell_type": "markdown",
   "id": "2dff3b80-8625-4364-a393-f515236b96be",
   "metadata": {},
   "source": [
    "### Question 3 - Slicing: \n",
    "\n",
    "Create a list called numbers containing the numbers from 1 to 10. Print a\r\n",
    "slice of the list containing elements from the third element to the sixth element."
   ]
  },
  {
   "cell_type": "code",
   "execution_count": 6,
   "id": "3716bedd-771e-4adf-ae31-25d652a4c720",
   "metadata": {},
   "outputs": [
    {
     "name": "stdout",
     "output_type": "stream",
     "text": [
      "[1, 2, 3, 4, 5, 6, 7, 8, 9, 10]\n",
      "[3, 4, 5, 6]\n"
     ]
    }
   ],
   "source": [
    "numbers = [i for i in range(1, 11)]\n",
    "\n",
    "print(numbers)\n",
    "print(numbers[2:6]) # This is like saying: 2nd element <numbers <= 6th element\n"
   ]
  },
  {
   "cell_type": "markdown",
   "id": "9c6071a5-563b-4562-8da9-1840d90eddc0",
   "metadata": {},
   "source": [
    "## Sets\n",
    "### Question 4 - Adding and Removing Elements: \n",
    "\n",
    "Create an empty set called my_set. Add the numbers 1, 2, and 3 to my_set. Then remove the number 2 from the set.\n"
   ]
  },
  {
   "cell_type": "code",
   "execution_count": 7,
   "id": "4511017f-e7ad-4b37-afb9-e737cc43dc54",
   "metadata": {},
   "outputs": [
    {
     "name": "stdout",
     "output_type": "stream",
     "text": [
      "{1, 3}\n"
     ]
    }
   ],
   "source": [
    "#my_set={} #output:  'dict' object has no attribute 'add'\n",
    "#Option 1:\n",
    "my_set = set()\n",
    "my_set.add(1)\n",
    "my_set.add(2)\n",
    "my_set.add(3)\n",
    "my_set.remove(2)\n",
    "\n",
    "print(my_set)"
   ]
  },
  {
   "cell_type": "code",
   "execution_count": 8,
   "id": "a244b77f-e638-424c-b8bf-183acb17340e",
   "metadata": {},
   "outputs": [
    {
     "name": "stdout",
     "output_type": "stream",
     "text": [
      "{1, 3}\n"
     ]
    }
   ],
   "source": [
    "#Option 2: Use .update()\n",
    "\n",
    "my_set = set()\n",
    "my_set.update([1, 2, 3])\n",
    "my_set.remove(2)\n",
    "print(my_set)\n"
   ]
  },
  {
   "cell_type": "code",
   "execution_count": 9,
   "id": "40a2c5db-7718-4d07-83c3-6bea39ef51cd",
   "metadata": {},
   "outputs": [
    {
     "name": "stdout",
     "output_type": "stream",
     "text": [
      "{1, 3}\n"
     ]
    }
   ],
   "source": [
    "#Option 3: Using a loop\n",
    "\n",
    "my_set = set()\n",
    "for i in range(1, 4): #This is like 1<=i<4\n",
    "    my_set.add(i)\n",
    "my_set.remove(2)\n",
    "print(my_set)"
   ]
  },
  {
   "cell_type": "code",
   "execution_count": 37,
   "id": "3b3b2e13-14e9-48bc-bb7f-3568eca35dda",
   "metadata": {},
   "outputs": [
    {
     "name": "stdout",
     "output_type": "stream",
     "text": [
      "{1, 3}\n"
     ]
    }
   ],
   "source": [
    "#Option 3.1: \n",
    "\n",
    "# Initialize an empty set\n",
    "my_set = set()\n",
    "\n",
    "for i in range(1, 4): #This is like 1<=i<4\n",
    "    if i not in range(2, 3):  #This is like 2<=i<3\n",
    "        my_set.add(i)\n",
    "\n",
    "print(my_set)\n"
   ]
  },
  {
   "cell_type": "code",
   "execution_count": 10,
   "id": "58ee4d84-b3ed-4ac1-a6a3-5ad71d038467",
   "metadata": {},
   "outputs": [
    {
     "name": "stdout",
     "output_type": "stream",
     "text": [
      "{1, 3}\n"
     ]
    }
   ],
   "source": [
    "#Option 4: Using a more direct loop\n",
    "\n",
    "my_set = {i for i in range(1, 4)}\n",
    "my_set.remove(2)\n",
    "print(my_set)"
   ]
  },
  {
   "cell_type": "code",
   "execution_count": 11,
   "id": "1afa18b0-0b3a-4a15-b5e7-3a9931bf4cf0",
   "metadata": {},
   "outputs": [
    {
     "name": "stdout",
     "output_type": "stream",
     "text": [
      "{1, 3}\n"
     ]
    }
   ],
   "source": [
    "#Option 5: Converting a list into a set using \"*\"\n",
    "\n",
    "my_set={}\n",
    "my_list=[1,2,3] #Similar to creating a set from a list my_set = set([1, 2, 3])\n",
    "\n",
    "my_set={*my_list}\n",
    "\n",
    "my_set.remove(2)\n",
    "\n",
    "print(my_set)"
   ]
  },
  {
   "cell_type": "markdown",
   "id": "fc9672cf-c02e-4b31-acf8-1c89886c0dcf",
   "metadata": {},
   "source": [
    "### Question 5 - Operations:\n",
    "\n",
    "Create two sets called set1 and set2, each containing a few numbers. Print the union, intersection, and difference of the two sets"
   ]
  },
  {
   "cell_type": "code",
   "execution_count": 12,
   "id": "ae449b02-ae09-44ff-aafb-611b4809d0ae",
   "metadata": {},
   "outputs": [
    {
     "name": "stdout",
     "output_type": "stream",
     "text": [
      "This is set1: {1, 2, 3, 4, 5, 6, 7, 8, 9, 10, 11, 12, 13, 14, 15, 16, 17, 18, 19, 20}\n",
      "\n",
      "This is set2: {8, 9, 10, 11, 12, 13, 14, 15, 16, 17, 18, 19, 20, 21, 22, 23, 24}\n",
      "\n",
      "A: This is the Union: {1, 2, 3, 4, 5, 6, 7, 8, 9, 10, 11, 12, 13, 14, 15, 16, 17, 18, 19, 20, 21, 22, 23, 24}\n",
      "\n",
      "B: This is the Interception: {8, 9, 10, 11, 12, 13, 14, 15, 16, 17, 18, 19, 20}\n",
      "\n",
      "C: This is the difference: {1, 2, 3, 4, 5, 6, 7}\n"
     ]
    }
   ],
   "source": [
    "set1={i for i in range(1,21)} #This is 1<=i<21\n",
    "set2 = set()\n",
    "for i in range(8, 25): #This is like 8<=i<24\n",
    "    set2.add(i)\n",
    "\n",
    "print(\"This is set1:\", set1)\n",
    "\n",
    "print(\"\\nThis is set2:\", set2)\n",
    "\n",
    "#Union\n",
    "\n",
    "print(\"\\nA: This is the Union:\", set1 | set2)\n",
    "\n",
    "#Interception\n",
    "\n",
    "print(\"\\nB: This is the Interception:\", set1 & set2)\n",
    "\n",
    "#Difference:\n",
    "\n",
    "print(\"\\nC: This is the difference:\", set1 - set2)"
   ]
  },
  {
   "cell_type": "markdown",
   "id": "cc322e72-423e-41e3-896d-a181efe098a4",
   "metadata": {},
   "source": [
    "## Tuples:"
   ]
  },
  {
   "cell_type": "markdown",
   "id": "d1648ebf-608d-4707-968a-f077bc302f46",
   "metadata": {},
   "source": [
    "### Question 6 - Accessing Elements: \n",
    "\n",
    "Create a tuple called coordinates containing the latitude \n",
    "and longitude of allocation (e.g., (40.7128, -74.0060) for New York City). Print the latitud \r\n",
    "and longitude separately"
   ]
  },
  {
   "cell_type": "code",
   "execution_count": 13,
   "id": "7dbc236c-467e-4f22-956e-ee7c950e3535",
   "metadata": {},
   "outputs": [
    {
     "name": "stdout",
     "output_type": "stream",
     "text": [
      "\n",
      "Latitude for Bogotá D.C., \n",
      "Capital of Colombia: 4.624335\n",
      "\n",
      "Longitude for Bogotá D.C., \n",
      "Capital of Colombia: -74.063644\n"
     ]
    }
   ],
   "source": [
    "coordinates=(4.624335, -74.063644) #For Bogotá D.C., Capital of Colombia\n",
    "\n",
    "print(\"\\nLatitude for Bogotá D.C.,\",\"\\nCapital of Colombia:\", coordinates[0])\n",
    "\n",
    "print(\"\\nLongitude for Bogotá D.C.,\",\"\\nCapital of Colombia:\", coordinates[1])"
   ]
  },
  {
   "cell_type": "markdown",
   "id": "974d9196-8050-455e-a09b-4c04acbf94e4",
   "metadata": {},
   "source": [
    "### Question 7 - Packing and Unpacking:  \n",
    "\n",
    "Create a tuple called person containing information about a person, such as their name, age, and city. Then unpack the tuple into individual variables"
   ]
  },
  {
   "cell_type": "code",
   "execution_count": 14,
   "id": "23e327f4-b652-494e-aacb-814a4ea71997",
   "metadata": {},
   "outputs": [
    {
     "name": "stdout",
     "output_type": "stream",
     "text": [
      "Tuple Information: \n",
      "Name: Joe Biden \n",
      "Age: 81 \n",
      "City: District of Columbia \n",
      "Country: USA\n"
     ]
    }
   ],
   "source": [
    "person=(\"Joe Biden\", 81, \"District of Columbia\", \"USA\")\n",
    "\n",
    "name=person[0]\n",
    "\n",
    "age=person[1]\n",
    "\n",
    "city=person[2]\n",
    "\n",
    "country=person[3]\n",
    "\n",
    "print(\"Tuple Information:\",\n",
    "    \"\\nName:\", name, \n",
    "     \"\\nAge:\", age,\n",
    "     \"\\nCity:\", city,\n",
    "     \"\\nCountry:\", country)"
   ]
  },
  {
   "cell_type": "code",
   "execution_count": 15,
   "id": "f25f8c7b-15b0-45aa-855b-4a0f8c121f54",
   "metadata": {},
   "outputs": [
    {
     "name": "stdout",
     "output_type": "stream",
     "text": [
      "Tuple Information:\n",
      "\n",
      "Name: Joe Biden\n",
      "\n",
      "Age: 81\n",
      "\n",
      "City: District of Columbia\n",
      "\n",
      "Country: USA\n"
     ]
    }
   ],
   "source": [
    "# Other option:\n",
    "\n",
    "person=(\"Joe Biden\", 81, \"District of Columbia\", \"USA\")\n",
    "\n",
    "name=person[0]\n",
    "\n",
    "age=person[1]\n",
    "\n",
    "city=person[2]\n",
    "\n",
    "country=person[3]\n",
    "\n",
    "variable_names=[\"Name\",\"Age\",\"City\",\"Country\"]\n",
    "variable_values = [name, age, city, country]\n",
    "\n",
    "\n",
    "print(\"Tuple Information:\")\n",
    "for variable_singular_name, variable_singular_value in zip(variable_names, variable_values):\n",
    "    print(f\"\\n{variable_singular_name}: {variable_singular_value}\")"
   ]
  },
  {
   "cell_type": "code",
   "execution_count": null,
   "id": "bf86bd2f-41a7-4814-970b-1cb2536d7404",
   "metadata": {},
   "outputs": [],
   "source": []
  }
 ],
 "metadata": {
  "kernelspec": {
   "display_name": "Python 3 (ipykernel)",
   "language": "python",
   "name": "python3"
  },
  "language_info": {
   "codemirror_mode": {
    "name": "ipython",
    "version": 3
   },
   "file_extension": ".py",
   "mimetype": "text/x-python",
   "name": "python",
   "nbconvert_exporter": "python",
   "pygments_lexer": "ipython3",
   "version": "3.11.7"
  }
 },
 "nbformat": 4,
 "nbformat_minor": 5
}
